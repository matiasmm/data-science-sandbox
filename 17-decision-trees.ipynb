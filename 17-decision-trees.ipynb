{
 "cells": [
  {
   "cell_type": "code",
   "execution_count": 15,
   "metadata": {
    "collapsed": true
   },
   "outputs": [],
   "source": [
    "from decision_trees import *"
   ]
  },
  {
   "cell_type": "code",
   "execution_count": 29,
   "metadata": {
    "collapsed": false
   },
   "outputs": [
    {
     "name": "stdout",
     "output_type": "stream",
     "text": [
      "\n"
     ]
    }
   ],
   "source": [
    "inputs = [\n",
    "        ({'level':'Senior','lang':'Java','tweets':'no','phd':'no'},   False),\n",
    "        ({'level':'Senior','lang':'Java','tweets':'no','phd':'yes'},  False),\n",
    "        ({'level':'Mid','lang':'Python','tweets':'no','phd':'no'},     True),\n",
    "        ({'level':'Junior','lang':'Python','tweets':'no','phd':'no'},  True),\n",
    "        ({'level':'Junior','lang':'R','tweets':'yes','phd':'no'},      True),\n",
    "        ({'level':'Junior','lang':'R','tweets':'yes','phd':'yes'},    False),\n",
    "        ({'level':'Mid','lang':'R','tweets':'yes','phd':'yes'},        True),\n",
    "        ({'level':'Senior','lang':'Python','tweets':'no','phd':'no'}, False),\n",
    "        ({'level':'Senior','lang':'R','tweets':'yes','phd':'no'},      True),\n",
    "        ({'level':'Junior','lang':'Python','tweets':'yes','phd':'no'}, True),\n",
    "        ({'level':'Senior','lang':'Python','tweets':'yes','phd':'yes'},True),\n",
    "        ({'level':'Mid','lang':'Python','tweets':'no','phd':'yes'},    True),\n",
    "        ({'level':'Mid','lang':'Java','tweets':'yes','phd':'no'},      True),\n",
    "        ({'level':'Junior','lang':'Python','tweets':'no','phd':'yes'},False)\n",
    "    ]"
   ]
  },
  {
   "cell_type": "code",
   "execution_count": 30,
   "metadata": {
    "collapsed": false
   },
   "outputs": [
    {
     "name": "stdout",
     "output_type": "stream",
     "text": [
      "level 0.693536138896\n",
      "lang 0.860131712855\n",
      "tweets 0.788450457308\n",
      "phd 0.892158928262\n"
     ]
    }
   ],
   "source": [
    "# ID3 algorithm https://es.wikipedia.org/wiki/Algoritmo_ID3\n",
    "\n",
    "# 1. partitionates the data, and calculates which is the attribute \n",
    "# that partitionates the data and have the lowest entropy.\n",
    "\n",
    "# The entropy of the partition is a weighted sum: H = q1 * H(s1) + ... + qm * H(sm)\n",
    "\n",
    "for key in ['level', 'lang', 'tweets', 'phd']:\n",
    "    print key, partition_entropy_by(inputs, key)\n",
    "    \n",
    "# level 0.693536138896 <== has the lowest entropy\n",
    "# lang 0.860131712855\n",
    "# tweets 0.788450457308\n",
    "# phd 0.892158928262"
   ]
  },
  {
   "cell_type": "code",
   "execution_count": 34,
   "metadata": {
    "collapsed": false
   },
   "outputs": [
    {
     "name": "stdout",
     "output_type": "stream",
     "text": [
      "lang 0.4\n",
      "tweets 0.0\n",
      "phd 0.950977500433\n",
      "lang 0.950977500433\n",
      "tweets 0.950977500433\n",
      "phd 0.0\n"
     ]
    }
   ],
   "source": [
    "# 2. Subtree. 'level': Mid is always True.. so we draw a direct and final leaf to True.\n",
    "# We build a subtree for 'level' == 'Senior'\n",
    "senior_inputs = [(input, label) for input, label in inputs if input['level'] == 'Senior']\n",
    "for key in ['lang', 'tweets', 'phd']:\n",
    "    print key, partition_entropy_by(senior_inputs, key)\n",
    "    \n",
    "# lang 0.4\n",
    "# tweets 0.0 <== No entropy.. if it Tweets, we know is True, False otherwise\n",
    "# phd 0.950977500433\n",
    "\n",
    "\n",
    "# 3. Subtree where 'level' is 'Junior'\n",
    "senior_inputs = [(input, label) for input, label in inputs if input['level'] == 'Junior']\n",
    "for key in ['lang', 'tweets', 'phd']:\n",
    "    print key, partition_entropy_by(senior_inputs, key)\n",
    "    \n",
    "# lang 0.950977500433\n",
    "# tweets 0.950977500433\n",
    "# phd 0.0 <== phd, if it has phd don't hire"
   ]
  },
  {
   "cell_type": "code",
   "execution_count": null,
   "metadata": {
    "collapsed": true
   },
   "outputs": [],
   "source": [
    "# Random forests, to avoid overfit and using such a deterministic method.\n",
    "# We use several decision trees (we use them allthen we vote the most common result).\n",
    "\n",
    "# we can build these trees using several sets of data.\n",
    "# One way is to use function bootstrap_sample (from multiple-regression).\n",
    "\n",
    "# Another way, is instead of choosing the remaing attributes, when we build subtrees,\n",
    "# we use a ramdom subset.\n"
   ]
  }
 ],
 "metadata": {
  "kernelspec": {
   "display_name": "Python 2",
   "language": "python",
   "name": "python2"
  },
  "language_info": {
   "codemirror_mode": {
    "name": "ipython",
    "version": 2
   },
   "file_extension": ".py",
   "mimetype": "text/x-python",
   "name": "python",
   "nbconvert_exporter": "python",
   "pygments_lexer": "ipython2",
   "version": "2.7.11"
  }
 },
 "nbformat": 4,
 "nbformat_minor": 0
}
