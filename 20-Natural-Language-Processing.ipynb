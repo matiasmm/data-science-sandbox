{
 "cells": [
  {
   "cell_type": "markdown",
   "metadata": {
    "collapsed": true
   },
   "source": [
    "## Natural Language Processing\n",
    "[original code](https://github.com/joelgrus/data-science-from-scratch/blob/master/code/natural_language_processing.py)"
   ]
  },
  {
   "cell_type": "code",
   "execution_count": 21,
   "metadata": {
    "collapsed": false
   },
   "outputs": [],
   "source": [
    "from natural_language_processing import * \n",
    "%matplotlib inline\n",
    "import matplotlib.pyplot as plt"
   ]
  },
  {
   "cell_type": "markdown",
   "metadata": {},
   "source": [
    "### Gibbs Sampling\n",
    "\n",
    "Generates samples from multidimensional distributions when we only know some of the conditional distributions. We use it when direct sampling is difficult.\n",
    "\n",
    "Example rolling 2 dice:\n",
    "\n",
    "every sample is (x,y), where x is the 1st die and y is the sum of both."
   ]
  },
  {
   "cell_type": "code",
   "execution_count": 22,
   "metadata": {
    "collapsed": false
   },
   "outputs": [
    {
     "name": "stdout",
     "output_type": "stream",
     "text": [
      "(5, 6)\n"
     ]
    }
   ],
   "source": [
    "# getting direct samples is easy in this case\n",
    "print direct_sample()"
   ]
  },
  {
   "cell_type": "code",
   "execution_count": 23,
   "metadata": {
    "collapsed": true
   },
   "outputs": [],
   "source": [
    "# but if we only knew the conditional probabilities, y_given_x, and x_given_y, we need to use Gibbs sampling\n",
    "\n",
    "def random_x_given_y(y):\n",
    "    if y <= 7:\n",
    "        return random.randrange(1, y)\n",
    "    return random.randrange(y-6, 7)\n",
    "\n",
    "def random_y_given_x(x):\n",
    "    return x + roll_a_die()\n"
   ]
  },
  {
   "cell_type": "code",
   "execution_count": 24,
   "metadata": {
    "collapsed": false
   },
   "outputs": [
    {
     "name": "stdout",
     "output_type": "stream",
     "text": [
      "(4, 10)\n"
     ]
    }
   ],
   "source": [
    "def gibbs_sample(num_iters=100):\n",
    "    x,y=1,2\n",
    "    for x in range(num_iters):\n",
    "        x = random_x_given_y(y)\n",
    "        y = random_y_given_x(x)\n",
    "    return x, y\n",
    "\n",
    "print gibbs_sample()"
   ]
  },
  {
   "cell_type": "code",
   "execution_count": 25,
   "metadata": {
    "collapsed": false
   },
   "outputs": [
    {
     "data": {
      "image/png": "[encoded data removed]",
      "text/plain": [
       "<matplotlib.figure.Figure at 0x109481fd0>"
      ]
     },
     "metadata": {},
     "output_type": "display_data"
    }
   ],
   "source": [
    "# Samples with Gibbs\n",
    "gtotals, gxs = [], []\n",
    "for x in range(1000):\n",
    "    x,y = gibbs_sample()\n",
    "    gxs.append(x)\n",
    "    gtotals.append(y)\n",
    "    \n",
    "# Direct samples\n",
    "totals, xs = [], []\n",
    "for x in range(1000):\n",
    "    x,y = direct_sample()\n",
    "    xs.append(x)\n",
    "    totals.append(y)\n",
    "    \n",
    "\n",
    "plt.title('Samples taken with gibbs sampler')\n",
    "plt.plot(gxs, gtotals, 'b*')\n",
    "plt.plot(xs, totals, 'r+')\n",
    "plt.show()"
   ]
  },
  {
   "cell_type": "markdown",
   "metadata": {
    "collapsed": true
   },
   "source": [
    "### Topic modeling - Latent Dirichlet Analysis (LDA)\n",
    "Latent ~= hidden\n",
    "\n",
    "Given a set of documents, it identifies relationship between common topics.\n",
    "\n",
    "Wikipedia: analyzing relationships between a set of documents and the terms they contain by producing a set of concepts related to the documents and terms. LSA assumes that words that are close in meaning will occur in similar pieces of text. \n",
    "\n",
    "##### Assumptions:\n",
    "\n",
    "  a. There is some fixed number K of topics.\n",
    "    \n",
    "  b. There is a random variable that assigns each topic a probability distribution over words. Probability of seeing _w_ word given topic k.\n",
    "    \n",
    "  c. There is a random variable that assigns each document a probability distribution over topics. Mixture of topics _k_ word in document _d_.\n",
    "  \n",
    "  d. Each word in a document was generated first randomly by picking a topic (from the document's distribution of topics) and them randomly by picking a word (from the topic distribution of words).\n",
    "  \n",
    "  \n"
   ]
  },
  {
   "cell_type": "code",
   "execution_count": 26,
   "metadata": {
    "collapsed": true
   },
   "outputs": [],
   "source": [
    "documents = [\n",
    "    [\"Hadoop\", \"Big Data\", \"HBase\", \"Java\", \"Spark\", \"Storm\", \"Cassandra\"],\n",
    "    [\"NoSQL\", \"MongoDB\", \"Cassandra\", \"HBase\", \"Postgres\"],\n",
    "    [\"Python\", \"scikit-learn\", \"scipy\", \"numpy\", \"statsmodels\", \"pandas\"],\n",
    "    [\"R\", \"Python\", \"statistics\", \"regression\", \"probability\"],\n",
    "    [\"machine learning\", \"regression\", \"decision trees\", \"libsvm\"],\n",
    "    [\"Python\", \"R\", \"Java\", \"C++\", \"Haskell\", \"programming languages\"],\n",
    "    [\"statistics\", \"probability\", \"mathematics\", \"theory\"],\n",
    "    [\"machine learning\", \"scikit-learn\", \"Mahout\", \"neural networks\"],\n",
    "    [\"neural networks\", \"deep learning\", \"Big Data\", \"artificial intelligence\"],\n",
    "    [\"Hadoop\", \"Java\", \"MapReduce\", \"Big Data\"],\n",
    "    [\"statistics\", \"R\", \"statsmodels\"],\n",
    "    [\"C++\", \"deep learning\", \"artificial intelligence\", \"probability\"],\n",
    "    [\"pandas\", \"R\", \"Python\"],\n",
    "    [\"databases\", \"HBase\", \"Postgres\", \"MySQL\", \"MongoDB\"],\n",
    "    [\"libsvm\", \"regression\", \"support vector machines\"]\n",
    "]\n",
    "\n",
    "K = 4"
   ]
  },
  {
   "cell_type": "markdown",
   "metadata": {},
   "source": [
    "We need to generate *document_topics* that assigns a topic to each word. So, the word ```documents[3][4]``` was generated from  ```document_topic[3][4]```.\n",
    "\n",
    "We do it using Gibbs Sampler.\n",
    "\n",
    "```\n",
    "  a. We assign randomly a topic to each word in every document\n",
    "  b. We go through each document, one word at a time.\n",
    "     for that word, document:\n",
    "       b.1. create weights for each topic. That will depend on the current distribution of topics in the current document, and the current distribution of words for that topic..\n",
    "       b.2 use the weights to find a new topic for that word.\n",
    "```\n",
    "\n",
    "Iterate many times."
   ]
  },
  {
   "cell_type": "markdown",
   "metadata": {},
   "source": [
    "##### b.1 Creates the weights one, for each topic K"
   ]
  },
  {
   "cell_type": "code",
   "execution_count": 27,
   "metadata": {
    "collapsed": true
   },
   "outputs": [],
   "source": [
    "# this creates the a weight\n",
    "def topic_weight(d, word, k):\n",
    "    \"\"\"given a document and a word in that document,\n",
    "    return the weight for the k-th topic\"\"\"\n",
    "\n",
    "    return p_word_given_topic(word, k) * p_topic_given_document(k, d)"
   ]
  },
  {
   "cell_type": "markdown",
   "metadata": {},
   "source": [
    "##### b.2 Find a new topic using new weights"
   ]
  },
  {
   "cell_type": "code",
   "execution_count": 28,
   "metadata": {
    "collapsed": true
   },
   "outputs": [],
   "source": [
    "def sample_from(weights):\n",
    "    total = sum(weights)\n",
    "    rnd = total * random.random()       # uniform between 0 and total\n",
    "    for i, w in enumerate(weights):\n",
    "        rnd -= w                        # return the smallest i such that\n",
    "        if rnd <= 0: return i           # sum(weights[:(i+1)]) >= rnd\n",
    "\n",
    "\n",
    "def choose_new_topic(d, word):\n",
    "    return sample_from([topic_weight(d, word, k)\n",
    "                        for k in range(K)])"
   ]
  },
  {
   "cell_type": "markdown",
   "metadata": {},
   "source": [
    "## Running the example using gensim library"
   ]
  },
  {
   "cell_type": "code",
   "execution_count": 29,
   "metadata": {
    "collapsed": false
   },
   "outputs": [
    {
     "name": "stdout",
     "output_type": "stream",
     "text": [
      "0.074*regression + 0.074*databases + 0.074*libsvm + 0.074*MongoDB + 0.074*HBase + 0.074*Postgres + 0.074*MySQL + 0.074*machine learning + 0.074*decision trees + 0.013*R\n",
      "\n",
      "0.074*regression + 0.074*Python + 0.074*R + 0.074*probability + 0.074*statistics + 0.074*Big Data + 0.074*Hadoop + 0.074*MapReduce + 0.074*Java + 0.013*HBase\n",
      "\n",
      "0.109*Python + 0.108*R + 0.059*Java + 0.059*C++ + 0.059*statistics + 0.059*Haskell + 0.059*programming languages + 0.059*probability + 0.059*mathematics + 0.059*theory\n",
      "\n",
      "0.099*deep learning + 0.099*artificial intelligence + 0.099*neural networks + 0.054*R + 0.054*probability + 0.054*Mahout + 0.054*Big Data + 0.054*scikit-learn + 0.054*C++ + 0.054*machine learning\n",
      "\n"
     ]
    }
   ],
   "source": [
    "from gensim import corpora, models, similarities\n",
    "from gensim.models import hdpmodel, ldamodel\n",
    "from itertools import izip\n",
    "\n",
    "dictionary = corpora.Dictionary(documents)\n",
    "corpus = [dictionary.doc2bow(document) for document in documents]\n",
    "\n",
    "lda = ldamodel.LdaModel(corpus, id2word=dictionary, num_topics=5)\n",
    "corpus_lda = lda[corpus]\n",
    "\n",
    "for i in range(0, lda.num_topics-1):\n",
    "    print lda.print_topic(i)\n",
    "    print"
   ]
  },
  {
   "cell_type": "code",
   "execution_count": null,
   "metadata": {
    "collapsed": true
   },
   "outputs": [],
   "source": []
  }
 ],
 "metadata": {
  "kernelspec": {
   "display_name": "Python 2",
   "language": "python",
   "name": "python2"
  },
  "language_info": {
   "codemirror_mode": {
    "name": "ipython",
    "version": 2
   },
   "file_extension": ".py",
   "mimetype": "text/x-python",
   "name": "python",
   "nbconvert_exporter": "python",
   "pygments_lexer": "ipython2",
   "version": "2.7.11"
  }
 },
 "nbformat": 4,
 "nbformat_minor": 0
}
