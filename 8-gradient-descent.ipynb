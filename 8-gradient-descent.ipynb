{
 "cells": [
  {
   "cell_type": "code",
   "execution_count": 54,
   "metadata": {
    "collapsed": false
   },
   "outputs": [],
   "source": [
    "# https://github.com/joelgrus/data-science-from-scratch/blob/master/code/nearest_neighbors.py\n",
    "%matplotlib inline\n",
    "import matplotlib.pyplot as plt\n",
    "from functools import partial\n",
    "import random\n",
    "from linear_algebra import distance\n",
    "\n",
    "# Givent a function and a function_gradient, we can use this to calculate minimum and maximums"
   ]
  },
  {
   "cell_type": "code",
   "execution_count": 6,
   "metadata": {
    "collapsed": true
   },
   "outputs": [],
   "source": [
    "# Function to estimate\n",
    "def sum_of_squares(v):\n",
    "    \"\"\"computes the sum of squared elements in v\"\"\"\n",
    "    return sum(v_i ** 2 for v_i in v)\n",
    "\n",
    "# as h gets smaller it gets closer to the derivative \n",
    "def differenece_quotient(f,x,h):\n",
    "    return (f(x+h) - f(x))/h\n",
    "    "
   ]
  },
  {
   "cell_type": "code",
   "execution_count": 36,
   "metadata": {
    "collapsed": false
   },
   "outputs": [
    {
     "data": {
      "text/plain": [
       "<matplotlib.legend.Legend at 0x10a4fca10>"
      ]
     },
     "execution_count": 36,
     "metadata": {},
     "output_type": "execute_result"
    },
    {
     "data": {
      "image/png": "[encoded data removed]",
      "text/plain": [
       "<matplotlib.figure.Figure at 0x10a6c8e10>"
      ]
     },
     "metadata": {},
     "output_type": "display_data"
    }
   ],
   "source": [
    "# Showing the similarities between derivative and difference_quotient\n",
    "\n",
    "def square(x):\n",
    "    return x*x\n",
    "\n",
    "def derivative(x):\n",
    "    return 2*x\n",
    "\n",
    "derivative_estimate = partial(differenece_quotient, square, h=0.001)\n",
    "\n",
    "x=range(-10,10)\n",
    "plt.title(\"Actual derivatives vs Estimates\")\n",
    "plt.plot(x, map(derivative, x), 'rx', label='Actual')\n",
    "plt.plot(x, map(derivative_estimate, x), 'y+', label='Actual')\n",
    "plt.legend(loc=10)"
   ]
  },
  {
   "cell_type": "code",
   "execution_count": 37,
   "metadata": {
    "collapsed": true
   },
   "outputs": [],
   "source": [
    "# Partial dif quotient, is calculating the ith derivative and holding the other variables fixed.\n",
    "def partial_difference_quotient(f, v, i, h):\n",
    "    w = [v_j + (h if j == i else 0)\n",
    "         for j, v_j in enumerate(v)]\n",
    "         \n",
    "    return (f(w) - f(v)) / h\n",
    "\n",
    "def estimate_gradient(f, v, h=0.00001):\n",
    "    return [partial_difference_quotient(f, v, i, h)\n",
    "            for i, _ in enumerate(v)]\n",
    "\n"
   ]
  },
  {
   "cell_type": "code",
   "execution_count": 67,
   "metadata": {
    "collapsed": false
   },
   "outputs": [
    {
     "name": "stdout",
     "output_type": "stream",
     "text": [
      "[2.0482531616526785e-05, 1.536189871239509e-05, 4.096506323305357e-05]\n"
     ]
    }
   ],
   "source": [
    "# Searching for the minimum\n",
    "\n",
    "# makes a step in the given direction.\n",
    "def step(v, direction, step_size):\n",
    "    \"\"\"move step_size in the direction from v\"\"\"\n",
    "    return [v_i + step_size * direction_i\n",
    "            for v_i, direction_i in zip(v, direction)]\n",
    "\n",
    "def sum_of_squares_gradient(v): \n",
    "    return [2 * v_i for v_i in v]\n",
    "\n",
    "v = [random.randint(0,10) for i in range(3)]\n",
    "# v = [4, 8, -1]\n",
    "# gradient [8, 16, -2]\n",
    "\n",
    "tolerance = 0.000001\n",
    "next_v = None\n",
    "while True:\n",
    "    gradient = sum_of_squares_gradient(v)\n",
    "    next_v = step(v, gradient, -0.01)\n",
    "    if (distance(next_v, v) < tolerance): # Next step was insignificant \n",
    "        break\n",
    "    v = next_v\n",
    "    \n",
    "print next_v # very close to 0,0,0\n",
    "        "
   ]
  },
  {
   "cell_type": "code",
   "execution_count": 66,
   "metadata": {
    "collapsed": false
   },
   "outputs": [
    {
     "name": "stdout",
     "output_type": "stream",
     "text": [
      "[1.676235796659917e-05, 3.852468873186072e-05, -1.0440555487985969e-05]\n"
     ]
    }
   ],
   "source": [
    "# The same as before but with differencial_quotient\n",
    "\n",
    "derivative_estimate = partial(estimate_gradient, sum_of_squares, h=0.00001)\n",
    "\n",
    "v = [random.randint(0,10) for i in range(3)]\n",
    "# v = [4, 8, -1]\n",
    "# gradient [8, 16, -2]\n",
    "\n",
    "tolerance = 0.000001\n",
    "next_v = None\n",
    "while True:\n",
    "    gradient = derivative_estimate(v)\n",
    "    next_v = step(v, gradient, -0.01)\n",
    "    if (distance(next_v, v) < tolerance): # Next step was insignificant \n",
    "        break\n",
    "    v = next_v\n",
    "    \n",
    "print next_v # very close to 0,0,0"
   ]
  },
  {
   "cell_type": "code",
   "execution_count": null,
   "metadata": {
    "collapsed": true
   },
   "outputs": [],
   "source": []
  }
 ],
 "metadata": {
  "kernelspec": {
   "display_name": "Python 2",
   "language": "python",
   "name": "python2"
  },
  "language_info": {
   "codemirror_mode": {
    "name": "ipython",
    "version": 2
   },
   "file_extension": ".py",
   "mimetype": "text/x-python",
   "name": "python",
   "nbconvert_exporter": "python",
   "pygments_lexer": "ipython2",
   "version": "2.7.11"
  }
 },
 "nbformat": 4,
 "nbformat_minor": 0
}
