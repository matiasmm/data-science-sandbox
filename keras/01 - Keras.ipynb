{
 "cells": [
  {
   "cell_type": "markdown",
   "metadata": {},
   "source": [
    "# Keras\n",
    "\n",
    "\n",
    "Tutorial: https://www.youtube.com/playlist?list=PLZbbT5o_s2xrwRnXk_yCPtnqqo4_u2YGL\n",
    "\n",
    "In this example, we'll predict whether a medicine has side effects on patients of different ages.\n",
    "The hypothesis is that it normally has side effects on patients above 65 years old."
   ]
  },
  {
   "cell_type": "code",
   "execution_count": 1,
   "metadata": {},
   "outputs": [
    {
     "name": "stderr",
     "output_type": "stream",
     "text": [
      "Using TensorFlow backend.\n"
     ]
    }
   ],
   "source": [
    "import numpy as np\n",
    "from random import randint\n",
    "from sklearn.preprocessing import MinMaxScaler\n",
    "\n",
    "import keras\n",
    "from keras import backend as K\n",
    "from keras.models import Sequential\n",
    "from keras.layers import Activation\n",
    "from keras.layers.core import Dense\n",
    "from keras.optimizers import Adam\n",
    "from keras.metrics import categorical_crossentropy\n",
    "import tensorflow"
   ]
  },
  {
   "cell_type": "markdown",
   "metadata": {},
   "source": [
    "### Creating training data and preprocess"
   ]
  },
  {
   "cell_type": "code",
   "execution_count": 2,
   "metadata": {},
   "outputs": [
    {
     "name": "stderr",
     "output_type": "stream",
     "text": [
      "/Users/matias/.virtualenvs/yolo/lib/python3.7/site-packages/sklearn/utils/validation.py:595: DataConversionWarning: Data with input dtype int64 was converted to float64 by MinMaxScaler.\n",
      "  warnings.warn(msg, DataConversionWarning)\n"
     ]
    }
   ],
   "source": [
    "train_labels = []\n",
    "train_samples = []\n",
    "\n",
    "for i in range(1000):\n",
    "    random_younger = randint(13, 64)\n",
    "    train_samples.append(random_younger)\n",
    "    train_labels.append(0)\n",
    "    \n",
    "    random_older = randint(65, 100)\n",
    "    train_samples.append(random_older)\n",
    "    train_labels.append(1)\n",
    "    \n",
    "for i in range(50):\n",
    "    random_younger = randint(13, 64)\n",
    "    train_samples.append(random_younger)\n",
    "    train_labels.append(1)\n",
    "    \n",
    "    random_older = randint(65, 100)\n",
    "    train_samples.append(random_older)\n",
    "    train_labels.append(0)\n",
    "    \n",
    "train_labels  = np.array(train_labels)\n",
    "train_samples = np.array(train_samples)\n",
    "    \n",
    "scaler = MinMaxScaler(feature_range=(0,1))\n",
    "scaled_train_samples= scaler.fit_transform((train_samples).reshape(-1,1))"
   ]
  },
  {
   "cell_type": "code",
   "execution_count": 3,
   "metadata": {},
   "outputs": [
    {
     "name": "stdout",
     "output_type": "stream",
     "text": [
      "[0 1 0 ... 0 1 0]\n",
      "[ 36 100  43 ...  99  25  95]\n"
     ]
    }
   ],
   "source": [
    "print(train_labels)\n",
    "print(train_samples)"
   ]
  },
  {
   "cell_type": "markdown",
   "metadata": {},
   "source": [
    "### Create Neural Network"
   ]
  },
  {
   "cell_type": "code",
   "execution_count": 4,
   "metadata": {},
   "outputs": [
    {
     "name": "stdout",
     "output_type": "stream",
     "text": [
      "WARNING:tensorflow:From /Users/matias/.virtualenvs/yolo/lib/python3.7/site-packages/tensorflow/python/framework/op_def_library.py:263: colocate_with (from tensorflow.python.framework.ops) is deprecated and will be removed in a future version.\n",
      "Instructions for updating:\n",
      "Colocations handled automatically by placer.\n"
     ]
    }
   ],
   "source": [
    "model = Sequential([\n",
    "    Dense(16, input_shape=(1,), activation='relu'),   #inputs arrays of (*,1) dimension, outputs (*,16)\n",
    "    Dense(32, activation='relu'),  #inputs arrays of (*,1) dimension, outputs (*,16)\n",
    "    Dense(2, activation='softmax')  #inputs arrays of (*,1) dimension, outputs (*,16)\n",
    "])"
   ]
  },
  {
   "cell_type": "code",
   "execution_count": 5,
   "metadata": {},
   "outputs": [
    {
     "name": "stdout",
     "output_type": "stream",
     "text": [
      "_________________________________________________________________\n",
      "Layer (type)                 Output Shape              Param #   \n",
      "=================================================================\n",
      "dense_1 (Dense)              (None, 16)                32        \n",
      "_________________________________________________________________\n",
      "dense_2 (Dense)              (None, 32)                544       \n",
      "_________________________________________________________________\n",
      "dense_3 (Dense)              (None, 2)                 66        \n",
      "=================================================================\n",
      "Total params: 642\n",
      "Trainable params: 642\n",
      "Non-trainable params: 0\n",
      "_________________________________________________________________\n"
     ]
    }
   ],
   "source": [
    "model.summary()"
   ]
  },
  {
   "cell_type": "markdown",
   "metadata": {},
   "source": [
    "### Training"
   ]
  },
  {
   "cell_type": "code",
   "execution_count": 6,
   "metadata": {},
   "outputs": [
    {
     "name": "stdout",
     "output_type": "stream",
     "text": [
      "WARNING:tensorflow:From /Users/matias/.virtualenvs/yolo/lib/python3.7/site-packages/tensorflow/python/ops/math_ops.py:3066: to_int32 (from tensorflow.python.ops.math_ops) is deprecated and will be removed in a future version.\n",
      "Instructions for updating:\n",
      "Use tf.cast instead.\n",
      "Epoch 1/20\n",
      " - 0s - loss: 0.6952 - acc: 0.4376\n",
      "Epoch 2/20\n",
      " - 0s - loss: 0.6741 - acc: 0.5871\n",
      "Epoch 3/20\n",
      " - 0s - loss: 0.6534 - acc: 0.6524\n",
      "Epoch 4/20\n",
      " - 0s - loss: 0.6321 - acc: 0.7000\n",
      "Epoch 5/20\n",
      " - 0s - loss: 0.6106 - acc: 0.7233\n",
      "Epoch 6/20\n",
      " - 0s - loss: 0.5883 - acc: 0.7457\n",
      "Epoch 7/20\n",
      " - 0s - loss: 0.5649 - acc: 0.7700\n",
      "Epoch 8/20\n",
      " - 0s - loss: 0.5415 - acc: 0.7900\n",
      "Epoch 9/20\n",
      " - 0s - loss: 0.5171 - acc: 0.8129\n",
      "Epoch 10/20\n",
      " - 0s - loss: 0.4890 - acc: 0.8371\n",
      "Epoch 11/20\n",
      " - 0s - loss: 0.4634 - acc: 0.8505\n",
      "Epoch 12/20\n",
      " - 0s - loss: 0.4407 - acc: 0.8605\n",
      "Epoch 13/20\n",
      " - 0s - loss: 0.4199 - acc: 0.8781\n",
      "Epoch 14/20\n",
      " - 0s - loss: 0.4010 - acc: 0.8824\n",
      "Epoch 15/20\n",
      " - 0s - loss: 0.3842 - acc: 0.8895\n",
      "Epoch 16/20\n",
      " - 0s - loss: 0.3692 - acc: 0.8981\n",
      "Epoch 17/20\n",
      " - 0s - loss: 0.3560 - acc: 0.9000\n",
      "Epoch 18/20\n",
      " - 0s - loss: 0.3444 - acc: 0.9119\n",
      "Epoch 19/20\n",
      " - 0s - loss: 0.3345 - acc: 0.9114\n",
      "Epoch 20/20\n",
      " - 0s - loss: 0.3257 - acc: 0.9090\n"
     ]
    },
    {
     "data": {
      "text/plain": [
       "<keras.callbacks.History at 0x12503eac8>"
      ]
     },
     "execution_count": 6,
     "metadata": {},
     "output_type": "execute_result"
    }
   ],
   "source": [
    "model.compile(Adam(lr=.0001), loss='sparse_categorical_crossentropy', metrics=['accuracy'])\n",
    "model.fit(scaled_train_samples, train_labels, batch_size=10, epochs=20, shuffle=True, verbose=2)"
   ]
  },
  {
   "cell_type": "markdown",
   "metadata": {},
   "source": [
    "### Build validation set"
   ]
  },
  {
   "cell_type": "code",
   "execution_count": 7,
   "metadata": {},
   "outputs": [
    {
     "name": "stdout",
     "output_type": "stream",
     "text": [
      "Train on 1890 samples, validate on 210 samples\n",
      "Epoch 1/20\n",
      " - 0s - loss: 0.2372 - acc: 0.9566 - val_loss: 1.0602 - val_acc: 0.5143\n",
      "Epoch 2/20\n",
      " - 0s - loss: 0.2225 - acc: 0.9571 - val_loss: 1.1021 - val_acc: 0.5143\n",
      "Epoch 3/20\n",
      " - 0s - loss: 0.2096 - acc: 0.9603 - val_loss: 1.1501 - val_acc: 0.5143\n",
      "Epoch 4/20\n",
      " - 0s - loss: 0.1978 - acc: 0.9598 - val_loss: 1.1946 - val_acc: 0.5143\n",
      "Epoch 5/20\n",
      " - 0s - loss: 0.1871 - acc: 0.9651 - val_loss: 1.2398 - val_acc: 0.5095\n",
      "Epoch 6/20\n",
      " - 0s - loss: 0.1772 - acc: 0.9630 - val_loss: 1.2753 - val_acc: 0.5095\n",
      "Epoch 7/20\n",
      " - 0s - loss: 0.1682 - acc: 0.9656 - val_loss: 1.3259 - val_acc: 0.5095\n",
      "Epoch 8/20\n",
      " - 0s - loss: 0.1601 - acc: 0.9656 - val_loss: 1.3694 - val_acc: 0.5095\n",
      "Epoch 9/20\n",
      " - 0s - loss: 0.1527 - acc: 0.9757 - val_loss: 1.4211 - val_acc: 0.5095\n",
      "Epoch 10/20\n",
      " - 0s - loss: 0.1459 - acc: 0.9741 - val_loss: 1.4666 - val_acc: 0.5095\n",
      "Epoch 11/20\n",
      " - 0s - loss: 0.1400 - acc: 0.9714 - val_loss: 1.5106 - val_acc: 0.5095\n",
      "Epoch 12/20\n",
      " - 0s - loss: 0.1342 - acc: 0.9788 - val_loss: 1.5535 - val_acc: 0.5143\n",
      "Epoch 13/20\n",
      " - 0s - loss: 0.1291 - acc: 0.9794 - val_loss: 1.5975 - val_acc: 0.5143\n",
      "Epoch 14/20\n",
      " - 0s - loss: 0.1244 - acc: 0.9788 - val_loss: 1.6364 - val_acc: 0.5143\n",
      "Epoch 15/20\n",
      " - 0s - loss: 0.1199 - acc: 0.9794 - val_loss: 1.6750 - val_acc: 0.5143\n",
      "Epoch 16/20\n",
      " - 0s - loss: 0.1160 - acc: 0.9836 - val_loss: 1.7198 - val_acc: 0.5143\n",
      "Epoch 17/20\n",
      " - 0s - loss: 0.1122 - acc: 0.9810 - val_loss: 1.7583 - val_acc: 0.5143\n",
      "Epoch 18/20\n",
      " - 0s - loss: 0.1088 - acc: 0.9799 - val_loss: 1.7981 - val_acc: 0.5143\n",
      "Epoch 19/20\n",
      " - 0s - loss: 0.1056 - acc: 0.9847 - val_loss: 1.8421 - val_acc: 0.5143\n",
      "Epoch 20/20\n",
      " - 0s - loss: 0.1025 - acc: 0.9820 - val_loss: 1.8746 - val_acc: 0.5286\n"
     ]
    },
    {
     "data": {
      "text/plain": [
       "<keras.callbacks.History at 0x135dd9470>"
      ]
     },
     "execution_count": 7,
     "metadata": {},
     "output_type": "execute_result"
    }
   ],
   "source": [
    "model.fit(scaled_train_samples, train_labels, validation_split=0.1, batch_size=10, epochs=20, shuffle=True, verbose=2)"
   ]
  },
  {
   "cell_type": "markdown",
   "metadata": {},
   "source": [
    "### Predict"
   ]
  },
  {
   "cell_type": "markdown",
   "metadata": {},
   "source": [
    "#### creating test data"
   ]
  },
  {
   "cell_type": "code",
   "execution_count": 8,
   "metadata": {},
   "outputs": [
    {
     "name": "stderr",
     "output_type": "stream",
     "text": [
      "/Users/matias/.virtualenvs/yolo/lib/python3.7/site-packages/sklearn/utils/validation.py:595: DataConversionWarning: Data with input dtype int64 was converted to float64 by MinMaxScaler.\n",
      "  warnings.warn(msg, DataConversionWarning)\n"
     ]
    }
   ],
   "source": [
    "test_labels = []\n",
    "test_samples = []\n",
    "\n",
    "for i in range(1000):\n",
    "    random_younger = randint(13, 64)\n",
    "    test_samples.append(random_younger)\n",
    "    test_labels.append(0)\n",
    "    \n",
    "    random_older = randint(65, 100)\n",
    "    test_samples.append(random_older)\n",
    "    test_labels.append(1)\n",
    "    \n",
    "for i in range(50):\n",
    "    random_younger = randint(13, 64)\n",
    "    test_samples.append(random_younger)\n",
    "    test_labels.append(1)\n",
    "    \n",
    "    random_older = randint(65, 100)\n",
    "    test_samples.append(random_older)\n",
    "    test_labels.append(0)\n",
    "    \n",
    "test_labels  = np.array(test_labels)\n",
    "test_samples = np.array(test_samples)\n",
    "    \n",
    "scaler = MinMaxScaler(feature_range=(0,1))\n",
    "scaled_test_samples= scaler.fit_transform((test_samples).reshape(-1,1))"
   ]
  },
  {
   "cell_type": "markdown",
   "metadata": {},
   "source": [
    "#### predict\n",
    "\n",
    "predicts probabilities:   \n",
    "   - [x] 1st column is the probability of 0 \n",
    "   - [x] 2nd column is the probability of 1\n",
    "   "
   ]
  },
  {
   "cell_type": "code",
   "execution_count": 9,
   "metadata": {},
   "outputs": [
    {
     "data": {
      "text/plain": [
       "array([[0.99232906, 0.00767094],\n",
       "       [0.01494118, 0.9850588 ],\n",
       "       [0.984213  , 0.01578699],\n",
       "       ...,\n",
       "       [0.35966873, 0.64033127],\n",
       "       [0.9924706 , 0.00752936],\n",
       "       [0.31486243, 0.68513757]], dtype=float32)"
      ]
     },
     "execution_count": 9,
     "metadata": {},
     "output_type": "execute_result"
    }
   ],
   "source": [
    "model.predict(scaled_test_samples, batch_size=10, verbose=0)"
   ]
  },
  {
   "cell_type": "markdown",
   "metadata": {},
   "source": [
    "predicts with classes:"
   ]
  },
  {
   "cell_type": "code",
   "execution_count": 10,
   "metadata": {},
   "outputs": [
    {
     "data": {
      "text/plain": [
       "array([0, 1, 0, ..., 1, 0, 1])"
      ]
     },
     "execution_count": 10,
     "metadata": {},
     "output_type": "execute_result"
    }
   ],
   "source": [
    "rounded_predictions = model.predict_classes(scaled_test_samples, batch_size=10, verbose=0)\n",
    "rounded_predictions"
   ]
  },
  {
   "cell_type": "markdown",
   "metadata": {},
   "source": [
    "### Confusion Matrix"
   ]
  },
  {
   "cell_type": "code",
   "execution_count": 11,
   "metadata": {},
   "outputs": [],
   "source": [
    "%matplotlib inline\n",
    "from sklearn.metrics import confusion_matrix\n",
    "import itertools\n",
    "import matplotlib.pyplot as plt"
   ]
  },
  {
   "cell_type": "code",
   "execution_count": 12,
   "metadata": {},
   "outputs": [],
   "source": [
    "cm = confusion_matrix(test_labels, rounded_predictions)"
   ]
  },
  {
   "cell_type": "code",
   "execution_count": 13,
   "metadata": {},
   "outputs": [],
   "source": [
    "def plot_confusion_matrix(cm, classes, normalize=False, title='confusion matrix', cmap=plt.cm.Blues):\n",
    "    plt.imshow(cm, interpolation='nearest', cmap=cmap)\n",
    "    plt.title(title)\n",
    "    plt.colorbar()\n",
    "    tick_marks = np.arange(len(classes))\n",
    "    plt.xticks(tick_marks, classes, rotation=45)\n",
    "    plt.yticks(tick_marks, classes)\n",
    "    \n",
    "    if normalize:\n",
    "        cm = cm.astype('float') / cm.sum(axis=1)[:, np.newaxis]\n",
    "        print(\"Normalized confusion matrix\")\n",
    "    else:\n",
    "        print(\"Confusion matrix, without normalization\")\n",
    "        \n",
    "    print(cm)\n",
    "    \n",
    "    thresh = cm.max() / 2.\n",
    "    for i, j in itertools.product(range(cm.shape[0]), range(cm.shape[1])):\n",
    "        plt.text(j, i, cm[i, j],\n",
    "                horizontalalignment=\"center\",\n",
    "                color=\"white\" if cm[i, j] > thresh else \"black\")\n",
    "        \n",
    "    plt.tight_layout()\n",
    "    plt.ylabel('True label')\n",
    "    plt.xlabel('Predicted label')"
   ]
  },
  {
   "cell_type": "code",
   "execution_count": 14,
   "metadata": {},
   "outputs": [
    {
     "name": "stdout",
     "output_type": "stream",
     "text": [
      "Confusion matrix, without normalization\n",
      "[[ 979   71]\n",
      " [  49 1001]]\n"
     ]
    },
    {
     "data": {
      "image/png": "[encoded data removed]",
      "text/plain": [
       "<Figure size 432x288 with 2 Axes>"
      ]
     },
     "metadata": {
      "needs_background": "light"
     },
     "output_type": "display_data"
    }
   ],
   "source": [
    "cm_plot_labels = ['no_side_effects', 'had_side_effects']\n",
    "plot_confusion_matrix(cm, cm_plot_labels)"
   ]
  },
  {
   "cell_type": "markdown",
   "metadata": {},
   "source": [
    "## Save"
   ]
  },
  {
   "cell_type": "markdown",
   "metadata": {},
   "source": [
    " ### 1. model.save()\n",
    " Save architechture, weights, state of the optimizer, training configuration"
   ]
  },
  {
   "cell_type": "code",
   "execution_count": 15,
   "metadata": {},
   "outputs": [],
   "source": [
    "# save\n",
    "model.save('medical_trial_model.h5')\n",
    "\n",
    "# load\n",
    "\n",
    "from keras.models import load_model\n",
    "\n",
    "new_model = load_model('medical_trial_model.h5')"
   ]
  },
  {
   "cell_type": "markdown",
   "metadata": {},
   "source": [
    " ### 2. model.to_json()  or model.to_yaml()\n",
    " Save only architecture"
   ]
  },
  {
   "cell_type": "code",
   "execution_count": 16,
   "metadata": {},
   "outputs": [],
   "source": [
    "# save\n",
    "json_string = model.to_json()\n",
    "\n",
    "# load\n",
    "\n",
    "from keras.models import model_from_json\n",
    "\n",
    "model_architecture = model_from_json(json_string)"
   ]
  },
  {
   "cell_type": "markdown",
   "metadata": {},
   "source": [
    " ### 3. model.save_weights()\n",
    "Only weights"
   ]
  },
  {
   "cell_type": "code",
   "execution_count": 17,
   "metadata": {},
   "outputs": [],
   "source": [
    "# save\n",
    "model.save_weights('medical_trial_model_weights.h5')\n",
    "\n",
    "# load: You'll need to create the architecture manually first and then load the weights\n",
    "model = Sequential([\n",
    "    Dense(16, input_shape=(1,), activation='relu'),\n",
    "    Dense(32, activation='relu'),\n",
    "    Dense(2, activation='softmax')\n",
    "])\n",
    "model.load_weights('medical_trial_model_weights.h5')"
   ]
  },
  {
   "cell_type": "code",
   "execution_count": null,
   "metadata": {},
   "outputs": [],
   "source": []
  }
 ],
 "metadata": {
  "kernelspec": {
   "display_name": "yolo",
   "language": "python",
   "name": "yolo"
  },
  "language_info": {
   "codemirror_mode": {
    "name": "ipython",
    "version": 3
   },
   "file_extension": ".py",
   "mimetype": "text/x-python",
   "name": "python",
   "nbconvert_exporter": "python",
   "pygments_lexer": "ipython3",
   "version": "3.7.3"
  }
 },
 "nbformat": 4,
 "nbformat_minor": 2
}
