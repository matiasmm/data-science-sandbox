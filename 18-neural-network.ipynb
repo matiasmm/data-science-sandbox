{
 "cells": [
  {
   "cell_type": "markdown",
   "metadata": {},
   "source": [
    "## Neural networks \n",
    "[original code](https://github.com/joelgrus/data-science-from-scratch/blob/master/code/neural_networks.py)"
   ]
  },
  {
   "cell_type": "code",
   "execution_count": 36,
   "metadata": {
    "collapsed": true
   },
   "outputs": [],
   "source": [
    "from neural_networks import *\n",
    "from linear_algebra import dot\n",
    "%matplotlib inline\n",
    "import matplotlib\n",
    "import matplotlib.pyplot as plt"
   ]
  },
  {
   "cell_type": "markdown",
   "metadata": {},
   "source": [
    " \n",
    " - neuron: list of weights\n",
    " - layer: list of neurons\n",
    " - neural network: list of layers\n",
    "\n",
    "## Feed-forward to build a XOR neural network\n",
    "\n",
    "Feed forward: the inputs always go to the next layer. (no cycles)\n",
    "\n",
    "```\n",
    "XOR neural network:\n",
    "\n",
    "->AND\\\n",
    "      ->2 AND NOT 1->\n",
    "->OR-/\n",
    "```"
   ]
  },
  {
   "cell_type": "code",
   "execution_count": 25,
   "metadata": {
    "collapsed": false
   },
   "outputs": [
    {
     "name": "stdout",
     "output_type": "stream",
     "text": [
      "[[4.5397868702434395e-05, 0.9999546021312976], [0.9999999999999059]]\n"
     ]
    }
   ],
   "source": [
    "xor_network = [\n",
    "    # hidden layer\n",
    "    [[20, 20, -30], # and neuron\n",
    "     [20, 20, -10]], # or neuron\n",
    "    # output layer\n",
    "    [[-60, 60, -30]] # '2nd input but not 1st input' neuron\n",
    "]\n",
    "\n",
    "# feed forward: the inputs always go to the next layer. (no cycles)\n",
    "print feed_forward(xor_network, [0,1])"
   ]
  },
  {
   "cell_type": "markdown",
   "metadata": {
    "collapsed": true
   },
   "source": [
    "## Backpropagation\n",
    "example with xor"
   ]
  },
  {
   "cell_type": "markdown",
   "metadata": {},
   "source": [
    "###### Initialize network with random values and set the actual values that the network will predict"
   ]
  },
  {
   "cell_type": "code",
   "execution_count": 26,
   "metadata": {
    "collapsed": false
   },
   "outputs": [],
   "source": [
    "# these numbers are set randomly, the algorigthm should correct the weights\n",
    "network = [[\n",
    "        [1, 0, 1],\n",
    "        [0, 1, 0],\n",
    "        [0, 1, 1]],\n",
    "           \n",
    "        [[0,1,0,1]]]\n",
    "\n",
    "targets = [[0], [1], [1], [0]]\n",
    "\n",
    "inputs = [\n",
    "    [0,0],[0,1],[1,0],[1,1] \n",
    "]"
   ]
  },
  {
   "cell_type": "markdown",
   "metadata": {},
   "source": [
    "###### Calculate the output of all neurons with the initial parameters"
   ]
  },
  {
   "cell_type": "code",
   "execution_count": 27,
   "metadata": {
    "collapsed": false
   },
   "outputs": [
    {
     "name": "stdout",
     "output_type": "stream",
     "text": [
      "[0.7310585786300049, 0.5, 0.7310585786300049] [0.8175744761936437]\n"
     ]
    }
   ],
   "source": [
    "input_vector = inputs[0]\n",
    "input_targets = targets[0]\n",
    "hidden_outputs, outputs = feed_forward(network, input_vector)\n",
    "\n",
    "print hidden_outputs, outputs"
   ]
  },
  {
   "cell_type": "markdown",
   "metadata": {},
   "source": [
    "###### Calculate deltas of Output layer\n",
    "output * (1-output) is the derivative of the sinoidal function"
   ]
  },
  {
   "cell_type": "code",
   "execution_count": 28,
   "metadata": {
    "collapsed": false
   },
   "outputs": [
    {
     "name": "stdout",
     "output_type": "stream",
     "text": [
      "[0.12193833242754278]\n"
     ]
    }
   ],
   "source": [
    "output_deltas = [output * (1-output) * (output-target) for output, target in zip(outputs, input_targets)]\n",
    "print output_deltas"
   ]
  },
  {
   "cell_type": "markdown",
   "metadata": {},
   "source": [
    "###### Adjust weights of output layer\n"
   ]
  },
  {
   "cell_type": "code",
   "execution_count": 29,
   "metadata": {
    "collapsed": false
   },
   "outputs": [
    {
     "name": "stdout",
     "output_type": "stream",
     "text": [
      "[-0.08914406398499246, 0.9390308337862286, -0.08914406398499246, 0.8780616675724572]\n"
     ]
    }
   ],
   "source": [
    "for i, output_neuron in enumerate(network[-1]):\n",
    "    for j, hidden_output in enumerate(hidden_outputs+[1]): # adds one more element representing the weight of the bias (always 1)\n",
    "        output_neuron[j] -= output_deltas[i] * hidden_output\n",
    "    print output_neuron"
   ]
  },
  {
   "cell_type": "markdown",
   "metadata": {},
   "source": [
    "###### Calculate deltas for hidden layer"
   ]
  },
  {
   "cell_type": "code",
   "execution_count": 30,
   "metadata": {
    "collapsed": false
   },
   "outputs": [
    {
     "name": "stdout",
     "output_type": "stream",
     "text": [
      "[-0.0021371871499729048, 0.028625963492484453, -0.0021371871499729048]\n"
     ]
    }
   ],
   "source": [
    "hidden_deltas = [hidden_output * (1-hidden_output) * dot(output_deltas, [n[i] for n in network[-1]])\n",
    "                for i, hidden_output in enumerate(hidden_outputs)]\n",
    "print hidden_deltas"
   ]
  },
  {
   "cell_type": "markdown",
   "metadata": {},
   "source": [
    "###### Adjust weights of hidden layer"
   ]
  },
  {
   "cell_type": "code",
   "execution_count": 31,
   "metadata": {
    "collapsed": false
   },
   "outputs": [
    {
     "name": "stdout",
     "output_type": "stream",
     "text": [
      "[1.0, 0.0, 1.002137187149973]\n",
      "[0.0, 1.0, -0.028625963492484453]\n",
      "[0.0, 1.0, 1.002137187149973]\n"
     ]
    }
   ],
   "source": [
    "for i, hidden_neuron in enumerate(network[0]):\n",
    "    for j, input in enumerate(input_vector + [1]):\n",
    "        hidden_neuron[j] -=  hidden_deltas[i] * input\n",
    "    print hidden_neuron"
   ]
  },
  {
   "cell_type": "markdown",
   "metadata": {},
   "source": [
    "### Now we run backpropagate several times to train the network"
   ]
  },
  {
   "cell_type": "code",
   "execution_count": 49,
   "metadata": {
    "collapsed": false
   },
   "outputs": [
    {
     "name": "stdout",
     "output_type": "stream",
     "text": [
      "[[[8.755827407235259, -5.773254814578221, 1.827950624767496], [5.164276818673209, 5.040206969121897, -0.10980453816364787], [-5.206743085531109, 8.598931462858154, 1.3620448031295762]], [[-13.069422068192827, 11.29060324180687, -13.083639471641389, 8.492694157586223]]]\n"
     ]
    }
   ],
   "source": [
    "for __ in range(200000):\n",
    "    for input_vector, target_vector in zip(inputs, targets):\n",
    "        backpropagate(network, input_vector, target_vector)\n",
    "        \n",
    "print network"
   ]
  },
  {
   "cell_type": "markdown",
   "metadata": {},
   "source": [
    "##### Testing the model"
   ]
  },
  {
   "cell_type": "code",
   "execution_count": 33,
   "metadata": {
    "collapsed": false
   },
   "outputs": [
    {
     "name": "stdout",
     "output_type": "stream",
     "text": [
      "[0.0007357720117635653]\n",
      "[0.9970345648683089]\n",
      "[0.9970242124883588]\n",
      "[0.003683377630249782]\n"
     ]
    }
   ],
   "source": [
    "print feed_forward(network, [0,0])[-1]\n",
    "print feed_forward(network, [0,1])[-1]\n",
    "print feed_forward(network, [1,0])[-1]\n",
    "print feed_forward(network, [1,1])[-1]"
   ]
  },
  {
   "cell_type": "code",
   "execution_count": null,
   "metadata": {
    "collapsed": true
   },
   "outputs": [],
   "source": []
  }
 ],
 "metadata": {
  "kernelspec": {
   "display_name": "Python 2",
   "language": "python",
   "name": "python2"
  },
  "language_info": {
   "codemirror_mode": {
    "name": "ipython",
    "version": 2
   },
   "file_extension": ".py",
   "mimetype": "text/x-python",
   "name": "python",
   "nbconvert_exporter": "python",
   "pygments_lexer": "ipython2",
   "version": "2.7.11"
  }
 },
 "nbformat": 4,
 "nbformat_minor": 0
}
