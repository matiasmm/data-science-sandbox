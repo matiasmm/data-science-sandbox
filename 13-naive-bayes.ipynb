{
 "cells": [
  {
   "cell_type": "code",
   "execution_count": 1,
   "metadata": {
    "collapsed": true
   },
   "outputs": [],
   "source": [
    "# https://github.com/joelgrus/data-science-from-scratch/blob/master/code/naive_bayes.py\n",
    "# Data: https://spamassassin.apache.org/publiccorpus/\n",
    "\n",
    "from naive_bayes import *"
   ]
  },
  {
   "cell_type": "code",
   "execution_count": null,
   "metadata": {
    "collapsed": true
   },
   "outputs": [],
   "source": []
  },
  {
   "cell_type": "code",
   "execution_count": 8,
   "metadata": {
    "collapsed": false
   },
   "outputs": [
    {
     "name": "stdout",
     "output_type": "stream",
     "text": [
      "Counter({(True, False): 3, (False, False): 2})\n",
      "('spammiest_hams', [('nati is drunk', False, 0.0011704359357386858), ('No escape from reality', False, 0.008135916138459133)])\n",
      "('hammiest_spams', [('I have no money for a rolex', True, 0.004764857915140413), ('viagra is good', True, 0.05290129280980171), ('buy rolex', True, 0.33291055944947473)])\n",
      "('spammiest_words', [('rolex', 0.375, 0.07142857142857142), ('t', 0.375, 0.07142857142857142), ('and', 0.625, 0.07142857142857142), ('some', 0.625, 0.07142857142857142), ('viagra', 0.875, 0.07142857142857142)])\n",
      "('hammiest_words', [('is', 0.125, 0.5), ('a', 0.125, 0.5), ('just', 0.125, 0.35714285714285715), ('spam', 0.125, 0.35714285714285715), ('this', 0.125, 0.35714285714285715)])\n"
     ]
    }
   ],
   "source": [
    "#   P(S|w) = [P(w|S) P(S)] / [P(w|S) P(S) + P(w|¬S) P(¬S)]\n",
    "# Knowing the probability of seeing each word in spam messages, and non spam messages. \n",
    "# Using Bayes Theorem we calculate the probability that a message is spam, given its word.\n",
    "\n",
    "data = [(\"viagra is good\", True), \n",
    "        (\"buy rolex\", True), \n",
    "        (\"erection problems? why don´t you get some viagra\", True), \n",
    "        (\"not spam\", False), \n",
    "        (\"is this a good spam filter\", False), \n",
    "        (\"viagra and rolex\", True),\n",
    "        (\"nati is drunk\", False),\n",
    "        (\"Is this the real life\", False),\n",
    "        (\"Or is it just fantasy\", False),\n",
    "        (\"Caught in a landslide\", False),\n",
    "        (\"No escape from reality\", False),\n",
    "        (\"Open your eyes, and buy some viagra\", True),\n",
    "        (\"I`m just a poor boy\", False),\n",
    "        (\"I have no money for a rolex\", True),\n",
    "       ]\n",
    "random.seed(0)      # just so you get the same answers as me\n",
    "train_data, test_data = split_data(data, 0.75)\n",
    "\n",
    "classifier = NaiveBayesClassifier()\n",
    "classifier.train(train_data)\n",
    "\n",
    "classified = [(subject, is_spam, classifier.classify(subject))\n",
    "              for subject, is_spam in test_data]\n",
    "\n",
    "counts = Counter((is_spam, spam_probability > 0.5) # (actual, predicted)\n",
    "                 for _, is_spam, spam_probability in classified)\n",
    "\n",
    "print(counts)\n",
    "\n",
    "classified.sort(key=lambda row: row[2])\n",
    "spammiest_hams = list(filter(lambda row: not row[1], classified))[-5:]\n",
    "hammiest_spams = list(filter(lambda row: row[1], classified))[:5]\n",
    "\n",
    "print(\"spammiest_hams\", spammiest_hams)\n",
    "print(\"hammiest_spams\", hammiest_spams)\n",
    "\n",
    "words = sorted(classifier.word_probs, key=p_spam_given_word)\n",
    "\n",
    "spammiest_words = words[-5:]\n",
    "hammiest_words = words[:5]\n",
    "\n",
    "print(\"spammiest_words\", spammiest_words)\n",
    "print(\"hammiest_words\", hammiest_words)"
   ]
  },
  {
   "cell_type": "code",
   "execution_count": null,
   "metadata": {
    "collapsed": true
   },
   "outputs": [],
   "source": []
  }
 ],
 "metadata": {
  "kernelspec": {
   "display_name": "Python 2",
   "language": "python",
   "name": "python2"
  },
  "language_info": {
   "codemirror_mode": {
    "name": "ipython",
    "version": 2
   },
   "file_extension": ".py",
   "mimetype": "text/x-python",
   "name": "python",
   "nbconvert_exporter": "python",
   "pygments_lexer": "ipython2",
   "version": "2.7.11"
  }
 },
 "nbformat": 4,
 "nbformat_minor": 0
}
